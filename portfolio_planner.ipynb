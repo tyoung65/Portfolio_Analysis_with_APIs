{
 "cells": [
  {
   "cell_type": "code",
   "execution_count": 1,
   "metadata": {},
   "outputs": [],
   "source": [
    "import numpy as np\n",
    "import pandas as pd\n",
    "from datetime import datetime, timedelta\n",
    "import matplotlib.pyplot as plt\n",
    "import os\n",
    "%matplotlib inline"
   ]
  },
  {
   "cell_type": "code",
   "execution_count": 2,
   "metadata": {},
   "outputs": [],
   "source": [
    "np.random.seed(42)"
   ]
  },
  {
   "cell_type": "markdown",
   "metadata": {},
   "source": [
    "# Portfolio Planner\n",
    "\n",
   ]
  },
  {
   "cell_type": "code",
   "execution_count": 3,
   "metadata": {},
   "outputs": [],
   "source": [
    "import alpaca_trade_api as tradeapi"
   ]
  },
  {
   "cell_type": "code",
   "execution_count": 4,
   "metadata": {},
   "outputs": [],
   "source": [
    "from dotenv import load_dotenv\n",
    "load_dotenv()\n",
    "\n",
    "# Set Alpaca API key and secret\n",
    "alpaca_api_key = os.getenv(\"ALPACA_API_KEY\")\n",
    "alpaca_secret_key = os.getenv(\"ALPACA_SECRET_KEY\")\n",
    "\n",
    "api = tradeapi.REST(alpaca_api_key, alpaca_secret_key, api_version='v2')"
   ]
  },
  {
   "cell_type": "markdown",
   "metadata": {},
   "source": [
    "# Data Collection\n",
    "\n",
    "Using the Alpaca api to fetch closing prices for the `SPY` and `AGG` tickers. Results saved as a pandas DataFrame"
   ]
  },
  {
   "cell_type": "code",
   "execution_count": 5,
   "metadata": {},
   "outputs": [
    {
     "data": {
      "text/html": [
       "<div>\n",
       "<style scoped>\n",
       "    .dataframe tbody tr th:only-of-type {\n",
       "        vertical-align: middle;\n",
       "    }\n",
       "\n",
       "    .dataframe tbody tr th {\n",
       "        vertical-align: top;\n",
       "    }\n",
       "\n",
       "    .dataframe thead tr th {\n",
       "        text-align: left;\n",
       "    }\n",
       "\n",
       "    .dataframe thead tr:last-of-type th {\n",
       "        text-align: right;\n",
       "    }\n",
       "</style>\n",
       "<table border=\"1\" class=\"dataframe\">\n",
       "  <thead>\n",
       "    <tr>\n",
       "      <th></th>\n",
       "      <th>AGG</th>\n",
       "      <th>SPY</th>\n",
       "    </tr>\n",
       "    <tr>\n",
       "      <th></th>\n",
       "      <th>close</th>\n",
       "      <th>close</th>\n",
       "    </tr>\n",
       "    <tr>\n",
       "      <th>time</th>\n",
       "      <th></th>\n",
       "      <th></th>\n",
       "    </tr>\n",
       "  </thead>\n",
       "  <tbody>\n",
       "    <tr>\n",
       "      <th>2019-12-02 00:00:00-05:00</th>\n",
       "      <td>112.48</td>\n",
       "      <td>311.60</td>\n",
       "    </tr>\n",
       "    <tr>\n",
       "      <th>2019-12-03 00:00:00-05:00</th>\n",
       "      <td>113.02</td>\n",
       "      <td>309.47</td>\n",
       "    </tr>\n",
       "    <tr>\n",
       "      <th>2019-12-04 00:00:00-05:00</th>\n",
       "      <td>112.80</td>\n",
       "      <td>311.47</td>\n",
       "    </tr>\n",
       "    <tr>\n",
       "      <th>2019-12-05 00:00:00-05:00</th>\n",
       "      <td>112.69</td>\n",
       "      <td>312.05</td>\n",
       "    </tr>\n",
       "    <tr>\n",
       "      <th>2019-12-06 00:00:00-05:00</th>\n",
       "      <td>112.54</td>\n",
       "      <td>314.84</td>\n",
       "    </tr>\n",
       "  </tbody>\n",
       "</table>\n",
       "</div>"
      ],
      "text/plain": [
       "                              AGG     SPY\n",
       "                            close   close\n",
       "time                                     \n",
       "2019-12-02 00:00:00-05:00  112.48  311.60\n",
       "2019-12-03 00:00:00-05:00  113.02  309.47\n",
       "2019-12-04 00:00:00-05:00  112.80  311.47\n",
       "2019-12-05 00:00:00-05:00  112.69  312.05\n",
       "2019-12-06 00:00:00-05:00  112.54  314.84"
      ]
     },
     "execution_count": 5,
     "metadata": {},
     "output_type": "execute_result"
    }
   ],
   "source": [
    "list_of_tickers = [\"AGG\", \"SPY\"]\n",
    "# YOUR CODE HERE\n",
    "timeframe = '1D'\n",
    "\n",
    "\n",
    "end_date = datetime.now()\n",
    "start_date = end_date + timedelta(-365)\n",
    "\n",
    "\n",
    "df = api.get_barset(\n",
    "    list_of_tickers,\n",
    "    timeframe,\n",
    "    limit=None,\n",
    "    start=start_date,\n",
    "    end=end_date,\n",
    "    after=None,\n",
    "    until=None,\n",
    ").df\n",
    "\n",
    "df.drop(columns=['open', 'high', 'low', 'volume'], level=1, inplace=True)\n",
    "\n",
    "\n",
    "df.head()"
   ]
  },
  {
   "cell_type": "markdown",
   "metadata": {},
   "source": [
    "# Monte Carlo Simulation\n",
    "\n",
    "Monte Carlo Simulations for portfolio to model portfolio performance at different retirement ages. \n",
    "\n",
    "\n",
    "1. Calculate the daily returns for the SPY and AGG closing prices.\n",
    "2. Calculate volatility for both the SPY and AGG closing prices.\n",
    "3. Find the last day's closing price for both stocks and save those as variables.\n",
    "4. Run a Monte Carlo Simulation of at least 500 iterations and generate at least 30 years of closing prices\n",
    "\n",
    "\n",
    "There are 252 trading days per year, so the number of records for each Monte Carlo run will be 252 days * 30 years"
   ]
  },
  {
   "cell_type": "code",
   "execution_count": 6,
   "metadata": {},
   "outputs": [
    {
     "data": {
      "text/html": [
       "<div>\n",
       "<style scoped>\n",
       "    .dataframe tbody tr th:only-of-type {\n",
       "        vertical-align: middle;\n",
       "    }\n",
       "\n",
       "    .dataframe tbody tr th {\n",
       "        vertical-align: top;\n",
       "    }\n",
       "\n",
       "    .dataframe thead tr th {\n",
       "        text-align: left;\n",
       "    }\n",
       "\n",
       "    .dataframe thead tr:last-of-type th {\n",
       "        text-align: right;\n",
       "    }\n",
       "</style>\n",
       "<table border=\"1\" class=\"dataframe\">\n",
       "  <thead>\n",
       "    <tr>\n",
       "      <th></th>\n",
       "      <th>AGG</th>\n",
       "      <th>SPY</th>\n",
       "    </tr>\n",
       "    <tr>\n",
       "      <th></th>\n",
       "      <th>close</th>\n",
       "      <th>close</th>\n",
       "    </tr>\n",
       "    <tr>\n",
       "      <th>time</th>\n",
       "      <th></th>\n",
       "      <th></th>\n",
       "    </tr>\n",
       "  </thead>\n",
       "  <tbody>\n",
       "    <tr>\n",
       "      <th>2019-12-02 00:00:00-05:00</th>\n",
       "      <td>NaN</td>\n",
       "      <td>NaN</td>\n",
       "    </tr>\n",
       "    <tr>\n",
       "      <th>2019-12-03 00:00:00-05:00</th>\n",
       "      <td>0.004801</td>\n",
       "      <td>-0.006836</td>\n",
       "    </tr>\n",
       "    <tr>\n",
       "      <th>2019-12-04 00:00:00-05:00</th>\n",
       "      <td>-0.001947</td>\n",
       "      <td>0.006463</td>\n",
       "    </tr>\n",
       "    <tr>\n",
       "      <th>2019-12-05 00:00:00-05:00</th>\n",
       "      <td>-0.000975</td>\n",
       "      <td>0.001862</td>\n",
       "    </tr>\n",
       "    <tr>\n",
       "      <th>2019-12-06 00:00:00-05:00</th>\n",
       "      <td>-0.001331</td>\n",
       "      <td>0.008941</td>\n",
       "    </tr>\n",
       "  </tbody>\n",
       "</table>\n",
       "</div>"
      ],
      "text/plain": [
       "                                AGG       SPY\n",
       "                              close     close\n",
       "time                                         \n",
       "2019-12-02 00:00:00-05:00       NaN       NaN\n",
       "2019-12-03 00:00:00-05:00  0.004801 -0.006836\n",
       "2019-12-04 00:00:00-05:00 -0.001947  0.006463\n",
       "2019-12-05 00:00:00-05:00 -0.000975  0.001862\n",
       "2019-12-06 00:00:00-05:00 -0.001331  0.008941"
      ]
     },
     "execution_count": 6,
     "metadata": {},
     "output_type": "execute_result"
    }
   ],
   "source": [
    "# Calculate the daily roi for the stocks\n",
    "# YOUR CODE HERE\n",
    "daily_returns = df.pct_change()\n",
    "\n",
    "\n",
    "avg_daily_returns_agg = daily_returns.mean()['AGG']\n",
    "avg_daily_returns_spy = daily_returns.mean()['SPY']\n",
    "\n",
    "daily_returns.head()"
   ]
  },
  {
   "cell_type": "code",
   "execution_count": 7,
   "metadata": {},
   "outputs": [
    {
     "name": "stdout",
     "output_type": "stream",
     "text": [
      "Volatlity for AGG is 0.008485943680615756.\n",
      "Volatlity for SPY is 0.030619948654163787.\n"
     ]
    }
   ],
   "source": [
    "# Calculate volatility\n",
    "# YOUR CODE HERE\n",
    "std_dev_daily_returns_agg = daily_returns.std()['AGG']['close']\n",
    "std_dev_daily_returns_spy = daily_returns.std()['SPY']['close']\n",
    "\n",
    "print(f\"Volatlity for AGG is {std_dev_daily_returns_agg}.\")\n",
    "print(f\"Volatlity for SPY is {std_dev_daily_returns_spy}.\")"
   ]
  },
  {
   "cell_type": "code",
   "execution_count": 8,
   "metadata": {},
   "outputs": [
    {
     "name": "stdout",
     "output_type": "stream",
     "text": [
      "Last day's closing price for AGG is 117.35.\n",
      "Last day's closing price for SPY is 283.04.\n"
     ]
    }
   ],
   "source": [
    "# Save the last day's closing price\n",
    "# YOUR CODE HERE\n",
    "agg_last_price = df['AGG']['close'][-1]\n",
    "spy_last_price = df['SPY']['close'][-1]\n",
    "\n",
    "print(f\"Last day's closing price for AGG is {agg_last_price}.\")\n",
    "print(f\"Last day's closing price for SPY is {spy_last_price}.\")"
   ]
  },
  {
   "cell_type": "code",
   "execution_count": 9,
   "metadata": {},
   "outputs": [],
   "source": [
    "# Setup the Monte Carlo Parameters\n",
    "num_simulations = 500\n",
    "num_records = 252 * 30\n",
    "simulated_price_df = pd.DataFrame()\n",
    "portfolio_cumulative_returns = pd.DataFrame()"
   ]
  },
  {
   "cell_type": "code",
   "execution_count": 10,
   "metadata": {},
   "outputs": [
    {
     "data": {
      "text/html": [
       "<div>\n",
       "<style scoped>\n",
       "    .dataframe tbody tr th:only-of-type {\n",
       "        vertical-align: middle;\n",
       "    }\n",
       "\n",
       "    .dataframe tbody tr th {\n",
       "        vertical-align: top;\n",
       "    }\n",
       "\n",
       "    .dataframe thead th {\n",
       "        text-align: right;\n",
       "    }\n",
       "</style>\n",
       "<table border=\"1\" class=\"dataframe\">\n",
       "  <thead>\n",
       "    <tr style=\"text-align: right;\">\n",
       "      <th></th>\n",
       "      <th>0</th>\n",
       "      <th>1</th>\n",
       "      <th>2</th>\n",
       "      <th>3</th>\n",
       "      <th>4</th>\n",
       "      <th>5</th>\n",
       "      <th>6</th>\n",
       "      <th>7</th>\n",
       "      <th>8</th>\n",
       "      <th>9</th>\n",
       "      <th>...</th>\n",
       "      <th>490</th>\n",
       "      <th>491</th>\n",
       "      <th>492</th>\n",
       "      <th>493</th>\n",
       "      <th>494</th>\n",
       "      <th>495</th>\n",
       "      <th>496</th>\n",
       "      <th>497</th>\n",
       "      <th>498</th>\n",
       "      <th>499</th>\n",
       "    </tr>\n",
       "  </thead>\n",
       "  <tbody>\n",
       "    <tr>\n",
       "      <th>0</th>\n",
       "      <td>1.000000</td>\n",
       "      <td>1.000000</td>\n",
       "      <td>1.000000</td>\n",
       "      <td>1.000000</td>\n",
       "      <td>1.000000</td>\n",
       "      <td>1.000000</td>\n",
       "      <td>1.000000</td>\n",
       "      <td>1.000000</td>\n",
       "      <td>1.000000</td>\n",
       "      <td>1.000000</td>\n",
       "      <td>...</td>\n",
       "      <td>1.000000</td>\n",
       "      <td>1.000000</td>\n",
       "      <td>1.000000</td>\n",
       "      <td>1.000000</td>\n",
       "      <td>1.000000</td>\n",
       "      <td>1.000000</td>\n",
       "      <td>1.000000</td>\n",
       "      <td>1.000000</td>\n",
       "      <td>1.000000</td>\n",
       "      <td>1.000000</td>\n",
       "    </tr>\n",
       "    <tr>\n",
       "      <th>1</th>\n",
       "      <td>0.999030</td>\n",
       "      <td>0.999082</td>\n",
       "      <td>0.992257</td>\n",
       "      <td>1.018184</td>\n",
       "      <td>1.043379</td>\n",
       "      <td>0.975582</td>\n",
       "      <td>0.986592</td>\n",
       "      <td>1.048922</td>\n",
       "      <td>1.000541</td>\n",
       "      <td>0.978991</td>\n",
       "      <td>...</td>\n",
       "      <td>1.005234</td>\n",
       "      <td>0.968471</td>\n",
       "      <td>1.004330</td>\n",
       "      <td>1.007540</td>\n",
       "      <td>0.983239</td>\n",
       "      <td>1.009535</td>\n",
       "      <td>1.003402</td>\n",
       "      <td>1.023528</td>\n",
       "      <td>0.990031</td>\n",
       "      <td>0.976555</td>\n",
       "    </tr>\n",
       "    <tr>\n",
       "      <th>2</th>\n",
       "      <td>1.029065</td>\n",
       "      <td>1.012541</td>\n",
       "      <td>1.007939</td>\n",
       "      <td>0.980808</td>\n",
       "      <td>1.031460</td>\n",
       "      <td>0.971728</td>\n",
       "      <td>0.971833</td>\n",
       "      <td>1.020981</td>\n",
       "      <td>0.995100</td>\n",
       "      <td>0.967364</td>\n",
       "      <td>...</td>\n",
       "      <td>1.016856</td>\n",
       "      <td>0.972745</td>\n",
       "      <td>1.007441</td>\n",
       "      <td>1.018454</td>\n",
       "      <td>0.984279</td>\n",
       "      <td>0.961708</td>\n",
       "      <td>1.004887</td>\n",
       "      <td>1.015037</td>\n",
       "      <td>0.979260</td>\n",
       "      <td>0.989579</td>\n",
       "    </tr>\n",
       "    <tr>\n",
       "      <th>3</th>\n",
       "      <td>1.023701</td>\n",
       "      <td>1.007745</td>\n",
       "      <td>1.005814</td>\n",
       "      <td>0.983666</td>\n",
       "      <td>1.021178</td>\n",
       "      <td>0.943846</td>\n",
       "      <td>0.984459</td>\n",
       "      <td>0.994706</td>\n",
       "      <td>0.992223</td>\n",
       "      <td>0.996166</td>\n",
       "      <td>...</td>\n",
       "      <td>1.017908</td>\n",
       "      <td>0.946757</td>\n",
       "      <td>1.007784</td>\n",
       "      <td>1.032891</td>\n",
       "      <td>0.965125</td>\n",
       "      <td>0.969048</td>\n",
       "      <td>1.023656</td>\n",
       "      <td>0.987506</td>\n",
       "      <td>0.986185</td>\n",
       "      <td>1.003946</td>\n",
       "    </tr>\n",
       "    <tr>\n",
       "      <th>4</th>\n",
       "      <td>1.043504</td>\n",
       "      <td>1.014107</td>\n",
       "      <td>1.021305</td>\n",
       "      <td>0.997932</td>\n",
       "      <td>1.041685</td>\n",
       "      <td>0.953325</td>\n",
       "      <td>1.000903</td>\n",
       "      <td>0.968942</td>\n",
       "      <td>0.996603</td>\n",
       "      <td>1.011521</td>\n",
       "      <td>...</td>\n",
       "      <td>1.004823</td>\n",
       "      <td>0.957747</td>\n",
       "      <td>1.007199</td>\n",
       "      <td>1.005481</td>\n",
       "      <td>0.968372</td>\n",
       "      <td>0.963597</td>\n",
       "      <td>1.010408</td>\n",
       "      <td>0.996656</td>\n",
       "      <td>0.976907</td>\n",
       "      <td>1.004124</td>\n",
       "    </tr>\n",
       "  </tbody>\n",
       "</table>\n",
       "<p>5 rows × 500 columns</p>\n",
       "</div>"
      ],
      "text/plain": [
       "        0         1         2         3         4         5         6    \\\n",
       "0  1.000000  1.000000  1.000000  1.000000  1.000000  1.000000  1.000000   \n",
       "1  0.999030  0.999082  0.992257  1.018184  1.043379  0.975582  0.986592   \n",
       "2  1.029065  1.012541  1.007939  0.980808  1.031460  0.971728  0.971833   \n",
       "3  1.023701  1.007745  1.005814  0.983666  1.021178  0.943846  0.984459   \n",
       "4  1.043504  1.014107  1.021305  0.997932  1.041685  0.953325  1.000903   \n",
       "\n",
       "        7         8         9    ...       490       491       492       493  \\\n",
       "0  1.000000  1.000000  1.000000  ...  1.000000  1.000000  1.000000  1.000000   \n",
       "1  1.048922  1.000541  0.978991  ...  1.005234  0.968471  1.004330  1.007540   \n",
       "2  1.020981  0.995100  0.967364  ...  1.016856  0.972745  1.007441  1.018454   \n",
       "3  0.994706  0.992223  0.996166  ...  1.017908  0.946757  1.007784  1.032891   \n",
       "4  0.968942  0.996603  1.011521  ...  1.004823  0.957747  1.007199  1.005481   \n",
       "\n",
       "        494       495       496       497       498       499  \n",
       "0  1.000000  1.000000  1.000000  1.000000  1.000000  1.000000  \n",
       "1  0.983239  1.009535  1.003402  1.023528  0.990031  0.976555  \n",
       "2  0.984279  0.961708  1.004887  1.015037  0.979260  0.989579  \n",
       "3  0.965125  0.969048  1.023656  0.987506  0.986185  1.003946  \n",
       "4  0.968372  0.963597  1.010408  0.996656  0.976907  1.004124  \n",
       "\n",
       "[5 rows x 500 columns]"
      ]
     },
     "execution_count": 10,
     "metadata": {},
     "output_type": "execute_result"
    }
   ],
   "source": [
    "# Run the Monte Carlo Simulation\n",
    "for n in range(num_simulations):\n",
    "\n",
    "    \n",
    "    simulated_agg_prices = [agg_last_price]\n",
    "    simulated_spy_prices = [spy_last_price]\n",
    "    \n",
    "    # Simulate the returns for 252 * 3 days\n",
    "    for i in range(num_records):\n",
    "        \n",
    "        # Calculate the simulated price using the last price within the list\n",
    "        simulated_agg_price = simulated_agg_prices[-1] * (1 + np.random.normal(avg_daily_returns_agg, std_dev_daily_returns_agg))\n",
    "        simulated_spy_price = simulated_spy_prices[-1] * (1 + np.random.normal(avg_daily_returns_spy, std_dev_daily_returns_spy))\n",
    "        \n",
    "        # Append the simulated price to the list\n",
    "        simulated_agg_prices.append(simulated_agg_price)\n",
    "        simulated_spy_prices.append(simulated_spy_price)\n",
    "    \n",
    "    # Append a simulated prices of each simulation to DataFrame\n",
    "    \n",
    "    simulated_price_df[\"AGG prices\"] = pd.Series(simulated_agg_prices)\n",
    "    simulated_price_df[\"SPY prices\"] = pd.Series(simulated_spy_prices)\n",
    "    \n",
    "    # Calculate the daily returns of simulated prices\n",
    "    simulated_daily_returns = simulated_price_df.pct_change()\n",
    "    \n",
    "    #removed brackets from numbers in dataframe\n",
    "    simulated_daily_returns = simulated_daily_returns.astype(float)\n",
    "    \n",
    "    # Set the portfolio weights \n",
    "    weights = [0.40, 0.60]\n",
    "\n",
    "    # Use the `dot` function with the weights to multiply weights with each column's simulated daily returns\n",
    "    portfolio_daily_returns = simulated_daily_returns.dot(weights)\n",
    "    \n",
    "    # Calculate the normalized, cumulative return series\n",
    "    portfolio_cumulative_returns[n] = (1 + portfolio_daily_returns.fillna(0)).cumprod()\n",
    "\n",
    "# Print records from the DataFrame\n",
    "portfolio_cumulative_returns.head()"
   ]
  },
  {
   "cell_type": "code",
   "execution_count": null,
   "metadata": {},
   "outputs": [],
   "source": []
  },
  {
   "cell_type": "code",
   "execution_count": 11,
   "metadata": {},
   "outputs": [
    {
     "data": {
      "text/plain": [
       "<matplotlib.axes._subplots.AxesSubplot at 0x1bbed6834c8>"
      ]
     },
     "execution_count": 11,
     "metadata": {},
     "output_type": "execute_result"
    },
    {
     "data": {
      "image/png": "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\n",
      "text/plain": [
       "<Figure size 432x288 with 1 Axes>"
      ]
     },
     "metadata": {
      "needs_background": "light"
     },
     "output_type": "display_data"
    }
   ],
   "source": [
    "# Visualize the Simulation\n",
    "# YOUR CODE HERE\n",
    "plot_title = f\"{n+1} Simulations of Cumulative Portfolio Return Trajectories Over the Next 30 years\"\n",
    "portfolio_cumulative_returns.plot(legend=None, title=plot_title)"
   ]
  },
  {
   "cell_type": "code",
   "execution_count": 12,
   "metadata": {},
   "outputs": [
    {
     "data": {
      "text/plain": [
       "0    0.107500\n",
       "1    0.069841\n",
       "2    0.078052\n",
       "3    0.028586\n",
       "4    0.076295\n",
       "Name: 7560, dtype: float64"
      ]
     },
     "execution_count": 12,
     "metadata": {},
     "output_type": "execute_result"
    }
   ],
   "source": [
    "# Select the last row for the cumulative returns (cumulative returns at 30 years)\n",
    "# YOUR CODE HERE\n",
    "ending_cumulative_returns = portfolio_cumulative_returns.iloc[-1, :]\n",
    "ending_cumulative_returns.head()"
   ]
  },
  {
   "cell_type": "code",
   "execution_count": 13,
   "metadata": {},
   "outputs": [
    {
     "data": {
      "text/plain": [
       "0    0.108811\n",
       "1    0.071715\n",
       "2    0.070083\n",
       "3    0.028570\n",
       "4    0.078799\n",
       "Name: 7550, dtype: float64"
      ]
     },
     "execution_count": 13,
     "metadata": {},
     "output_type": "execute_result"
    }
   ],
   "source": [
    "# Select the last row for the cumulative returns (cumulative returns at 20 years)\n",
    "# YOUR CODE HERE\n",
    "ending_cumulative_returns_20 = portfolio_cumulative_returns.iloc[-11, :]\n",
    "ending_cumulative_returns_20.head()"
   ]
  },
  {
   "cell_type": "code",
   "execution_count": 14,
   "metadata": {},
   "outputs": [
    {
     "data": {
      "text/plain": [
       "0.05    0.009059\n",
       "0.95    1.499063\n",
       "Name: 7560, dtype: float64"
      ]
     },
     "execution_count": 14,
     "metadata": {},
     "output_type": "execute_result"
    }
   ],
   "source": [
    "# Display the 90% confidence interval for the ending returns\n",
    "# YOUR CODE HERE\n",
    "confidence_interval_90 = ending_cumulative_returns.quantile(q=[0.05, 0.95])\n",
    "confidence_interval_90"
   ]
  },
  {
   "cell_type": "code",
   "execution_count": 21,
   "metadata": {},
   "outputs": [
    {
     "data": {
      "text/plain": [
       "<matplotlib.lines.Line2D at 0x1bbf1405f08>"
      ]
     },
     "execution_count": 21,
     "metadata": {},
     "output_type": "execute_result"
    },
    {
     "data": {
      "image/png": "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\n",
      "text/plain": [
       "<Figure size 1080x360 with 1 Axes>"
      ]
     },
     "metadata": {
      "needs_background": "light"
     },
     "output_type": "display_data"
    }
   ],
   "source": [
    "# Visualize the distribution of the ending returns\n",
    "# YOUR CODE HERE\n",
    "plt.figure();\n",
    "ending_cumulative_returns.plot(kind='hist', density=True, bins=20, figsize=(15,5))\n",
    "plt.axvline(confidence_interval_90.iloc[0], color='r')\n",
    "plt.axvline(confidence_interval_90.iloc[1], color='r')"
   ]
  },
  {
   "cell_type": "markdown",
   "metadata": {},
   "source": [
    "---"
   ]
  },
  {
   "cell_type": "markdown",
   "metadata": {},
   "source": [
    "# Retirement Analysis\n",
    "\n",
    "In this section, you will use the monte carlo model to answer the following retirement planning questions:\n",
    "\n",
    "1. What are the expected cumulative returns at 30 years for the 10th, 50th, and 90th percentiles?\n",
    "2. Given an initial investment of `$20,000`, what is the expected portfolio return in dollars at the 10th, 50th, and 90th percentiles?\n",
    "3. Given the current projected annual income from the Plaid analysis, will a 4% withdraw rate from the retirement portfolio meet or exceed that value at the 10th percentile?\n",
    "4. How would a 50% increase in the initial investment amount affect the 4% retirement withdrawal?"
   ]
  },
  {
   "cell_type": "markdown",
   "metadata": {},
   "source": [
    "### What are the expected cumulative returns at 30 years for the 10th, 50th, and 90th percentiles?"
   ]
  },
  {
   "cell_type": "code",
   "execution_count": 23,
   "metadata": {},
   "outputs": [
    {
     "name": "stdout",
     "output_type": "stream",
     "text": [
      "Expected cumulative returns at the 10th percentile is 1.5725772129074402%\n",
      "Expected cumulative returns at the 50th percentile is 12.016231330943794%\n",
      "Expected cumulative returns at the 90th percentile is 77.14698456046169%\n"
     ]
    }
   ],
   "source": [
    "# YOUR CODE HERE\n",
    "expected_cum_returns = ending_cumulative_returns.quantile(q=[0.1, 0.5, 0.9])\n",
    "\n",
    "\n",
    "print(f\"Expected cumulative returns at the 10th percentile is {expected_cum_returns[.1] * 100}%\")\n",
    "print(f\"Expected cumulative returns at the 50th percentile is {expected_cum_returns[.5] * 100}%\")\n",
    "print(f\"Expected cumulative returns at the 90th percentile is {expected_cum_returns[.9] * 100}%\")\n",
    "\n"
   ]
  },
  {
   "cell_type": "markdown",
   "metadata": {},
   "source": [
    "### Given an initial investment of `$20,000`, what is the expected portfolio return in dollars at the 10th, 50th, and 90th percentiles?"
   ]
  },
  {
   "cell_type": "code",
   "execution_count": 26,
   "metadata": {},
   "outputs": [
    {
     "name": "stdout",
     "output_type": "stream",
     "text": [
      "Expected portfolio return over 30 years at the 10th percentile with an initial investement of $20000 is $31451.544258148806\n",
      "\n",
      "Expected portfolio return over 30 years at the 50th percentile with an initial investement of $20000 is $240324.6266188759\n",
      "\n",
      "Expected portfolio return over 30 years at the 90th percentile with an initial investement of $20000 is $1542939.6912092338\n"
     ]
    }
   ],
   "source": [
    "# YOUR CODE HERE\n",
    "initial_investment = 20000\n",
    "                                                    \n",
    "# Print the results\n",
    "print(f\"Expected portfolio return over 30 years at the 10th percentile with an initial investement of ${initial_investment} is ${initial_investment * expected_cum_returns[.1] * 100}\")\n",
    "print()\n",
    "print(f\"Expected portfolio return over 30 years at the 50th percentile with an initial investement of ${initial_investment} is ${initial_investment * expected_cum_returns[.5] * 100}\")\n",
    "print()\n",
    "print(f\"Expected portfolio return over 30 years at the 90th percentile with an initial investement of ${initial_investment} is ${initial_investment * expected_cum_returns[.9] * 100}\")\n",
    "\n",
    "\n",
    "                                                    "
   ]
  },
  {
   "cell_type": "markdown",
   "metadata": {},
   "source": [
    "### Given the current projected annual income from the Plaid analysis, will a 4% withdraw rate from the retirement portfolio meet or exceed that value at the 10th percentile?\n",
    "\n",
    "Note: This is effectively saying that 90% of the expected returns will be greater than the return at the 10th percentile, so this can help measure the uncertainty about having enough funds at retirement"
   ]
  },
  {
   "cell_type": "code",
   "execution_count": 35,
   "metadata": {},
   "outputs": [
    {
     "name": "stdout",
     "output_type": "stream",
     "text": [
      "A 4 % withdraw rate will provide an annual income of 1258.0617703259522. This is less than the projected annual income of $6085.\n"
     ]
    }
   ],
   "source": [
    "# YOUR CODE HERE\n",
    "projected_income = 6085\n",
    "print(f\"A 4 % withdraw rate will provide an annual income of {(initial_investment * expected_cum_returns[.1] * 100)*.04}. This is less than the projected annual income of ${projected_income}.\")"
   ]
  },
  {
   "cell_type": "markdown",
   "metadata": {},
   "source": [
    "### How would a 50% increase in the initial investment amount affect the 4% retirement withdrawal?"
   ]
  },
  {
   "cell_type": "code",
   "execution_count": 36,
   "metadata": {},
   "outputs": [
    {
     "name": "stdout",
     "output_type": "stream",
     "text": [
      "A 4 % withdraw rate will provide an annual income of 1887.0926554889284. This is less than the projected annual income of $6085.\n"
     ]
    }
   ],
   "source": [
    "# YOUR CODE HERE\n",
    "initial_investment_increased = initial_investment * 1.5\n",
    "\n",
    "print(f\"A 4 % withdraw rate will provide an annual income of {(initial_investment_increased * expected_cum_returns[.1] * 100)*.04}. This is less than the projected annual income of ${projected_income}.\")\n"
   ]
  }
 ],
 "metadata": {
  "kernelspec": {
   "display_name": "Python 3",
   "language": "python",
   "name": "python3"
  },
  "language_info": {
   "codemirror_mode": {
    "name": "ipython",
    "version": 3
   },
   "file_extension": ".py",
   "mimetype": "text/x-python",
   "name": "python",
   "nbconvert_exporter": "python",
   "pygments_lexer": "ipython3",
   "version": "3.7.7"
  }
 },
 "nbformat": 4,
 "nbformat_minor": 4
}
