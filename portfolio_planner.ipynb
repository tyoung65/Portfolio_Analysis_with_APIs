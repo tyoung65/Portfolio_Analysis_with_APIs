{
 "cells": [
  {
   "cell_type": "code",
   "execution_count": 1,
   "metadata": {},
   "outputs": [],
   "source": [
    "import numpy as np\n",
    "import pandas as pd\n",
    "from datetime import datetime, timedelta\n",
    "import matplotlib.pyplot as plt\n",
    "import os\n",
    "%matplotlib inline"
   ]
  },
  {
   "cell_type": "code",
   "execution_count": 2,
   "metadata": {},
   "outputs": [],
   "source": [
    "np.random.seed(42)"
   ]
  },
  {
   "cell_type": "markdown",
   "metadata": {},
   "source": [
    "# Portfolio Planner\n",
    "Using Alpaca API to grab historical data for a 60/40 portfolio using SPY to represent the stock portion and AGG to represent the bonds."
   ]
  },
  {
   "cell_type": "code",
   "execution_count": 3,
   "metadata": {},
   "outputs": [],
   "source": [
    "import alpaca_trade_api as tradeapi"
   ]
  },
  {
   "cell_type": "code",
   "execution_count": 4,
   "metadata": {},
   "outputs": [],
   "source": [
    "from dotenv import load_dotenv\n",
    "load_dotenv()\n",
    "\n",
    "# Set Alpaca API key and secret\n",
    "alpaca_api_key = os.getenv(\"ALPACA_API_KEY\")\n",
    "alpaca_secret_key = os.getenv(\"ALPACA_SECRET_KEY\")\n",
    "\n",
    "api = tradeapi.REST(alpaca_api_key, alpaca_secret_key, api_version='v2')"
   ]
  },
  {
   "cell_type": "markdown",
   "metadata": {},
   "source": [
    "# Data Collection\n",
    "Using Alpaca API to retrieve closing prices for the SPY and AGG tickers. Results saved as a pandas DataFrame"
   ]
  },
  {
   "cell_type": "code",
   "execution_count": 5,
   "metadata": {},
   "outputs": [
    {
     "data": {
      "text/html": [
       "<div>\n",
       "<style scoped>\n",
       "    .dataframe tbody tr th:only-of-type {\n",
       "        vertical-align: middle;\n",
       "    }\n",
       "\n",
       "    .dataframe tbody tr th {\n",
       "        vertical-align: top;\n",
       "    }\n",
       "\n",
       "    .dataframe thead tr th {\n",
       "        text-align: left;\n",
       "    }\n",
       "\n",
       "    .dataframe thead tr:last-of-type th {\n",
       "        text-align: right;\n",
       "    }\n",
       "</style>\n",
       "<table border=\"1\" class=\"dataframe\">\n",
       "  <thead>\n",
       "    <tr>\n",
       "      <th></th>\n",
       "      <th>AGG</th>\n",
       "      <th>SPY</th>\n",
       "    </tr>\n",
       "    <tr>\n",
       "      <th></th>\n",
       "      <th>close</th>\n",
       "      <th>close</th>\n",
       "    </tr>\n",
       "    <tr>\n",
       "      <th>time</th>\n",
       "      <th></th>\n",
       "      <th></th>\n",
       "    </tr>\n",
       "  </thead>\n",
       "  <tbody>\n",
       "    <tr>\n",
       "      <th>2020-04-20 00:00:00-04:00</th>\n",
       "      <td>117.100</td>\n",
       "      <td>281.61</td>\n",
       "    </tr>\n",
       "    <tr>\n",
       "      <th>2020-04-21 00:00:00-04:00</th>\n",
       "      <td>117.170</td>\n",
       "      <td>273.02</td>\n",
       "    </tr>\n",
       "    <tr>\n",
       "      <th>2020-04-22 00:00:00-04:00</th>\n",
       "      <td>117.095</td>\n",
       "      <td>279.17</td>\n",
       "    </tr>\n",
       "    <tr>\n",
       "      <th>2020-04-23 00:00:00-04:00</th>\n",
       "      <td>117.390</td>\n",
       "      <td>279.06</td>\n",
       "    </tr>\n",
       "    <tr>\n",
       "      <th>2020-04-24 00:00:00-04:00</th>\n",
       "      <td>117.350</td>\n",
       "      <td>283.04</td>\n",
       "    </tr>\n",
       "  </tbody>\n",
       "</table>\n",
       "</div>"
      ],
      "text/plain": [
       "                               AGG     SPY\n",
       "                             close   close\n",
       "time                                      \n",
       "2020-04-20 00:00:00-04:00  117.100  281.61\n",
       "2020-04-21 00:00:00-04:00  117.170  273.02\n",
       "2020-04-22 00:00:00-04:00  117.095  279.17\n",
       "2020-04-23 00:00:00-04:00  117.390  279.06\n",
       "2020-04-24 00:00:00-04:00  117.350  283.04"
      ]
     },
     "execution_count": 5,
     "metadata": {},
     "output_type": "execute_result"
    }
   ],
   "source": [
    "list_of_tickers = [\"AGG\", \"SPY\"]\n",
    "\n",
    "timeframe = '1D'\n",
    "\n",
    "\n",
    "end_date = datetime.now()\n",
    "start_date = end_date + timedelta(-365)\n",
    "\n",
    "\n",
    "df = api.get_barset(\n",
    "    list_of_tickers,\n",
    "    timeframe,\n",
    "    limit=None,\n",
    "    start=start_date,\n",
    "    end=end_date,\n",
    "    after=None,\n",
    "    until=None,\n",
    ").df\n",
    "\n",
    "df.drop(columns=['open', 'high', 'low', 'volume'], level=1, inplace=True)\n",
    "\n",
    "\n",
    "df.head()"
   ]
  },
  {
   "cell_type": "markdown",
   "metadata": {},
   "source": [
    "# Monte Carlo Simulation\n",
    "\n",
    "Run Monte Carlo Simulations to model portfolio performance at different retirement ages.\n",
    "\n",
    "Simulation will consist of at least 500 iterations and generate at least 30 years of closing prices\n",
    "\n",
    "There are 252 trading days per year, so the number of records to generate for each Monte Carlo run will be 252 days * 30 years"
   ]
  },
  {
   "cell_type": "code",
   "execution_count": 6,
   "metadata": {},
   "outputs": [
    {
     "data": {
      "text/html": [
       "<div>\n",
       "<style scoped>\n",
       "    .dataframe tbody tr th:only-of-type {\n",
       "        vertical-align: middle;\n",
       "    }\n",
       "\n",
       "    .dataframe tbody tr th {\n",
       "        vertical-align: top;\n",
       "    }\n",
       "\n",
       "    .dataframe thead tr th {\n",
       "        text-align: left;\n",
       "    }\n",
       "\n",
       "    .dataframe thead tr:last-of-type th {\n",
       "        text-align: right;\n",
       "    }\n",
       "</style>\n",
       "<table border=\"1\" class=\"dataframe\">\n",
       "  <thead>\n",
       "    <tr>\n",
       "      <th></th>\n",
       "      <th>AGG</th>\n",
       "      <th>SPY</th>\n",
       "    </tr>\n",
       "    <tr>\n",
       "      <th></th>\n",
       "      <th>close</th>\n",
       "      <th>close</th>\n",
       "    </tr>\n",
       "    <tr>\n",
       "      <th>time</th>\n",
       "      <th></th>\n",
       "      <th></th>\n",
       "    </tr>\n",
       "  </thead>\n",
       "  <tbody>\n",
       "    <tr>\n",
       "      <th>2020-04-20 00:00:00-04:00</th>\n",
       "      <td>NaN</td>\n",
       "      <td>NaN</td>\n",
       "    </tr>\n",
       "    <tr>\n",
       "      <th>2020-04-21 00:00:00-04:00</th>\n",
       "      <td>0.000598</td>\n",
       "      <td>-0.030503</td>\n",
       "    </tr>\n",
       "    <tr>\n",
       "      <th>2020-04-22 00:00:00-04:00</th>\n",
       "      <td>-0.000640</td>\n",
       "      <td>0.022526</td>\n",
       "    </tr>\n",
       "    <tr>\n",
       "      <th>2020-04-23 00:00:00-04:00</th>\n",
       "      <td>0.002519</td>\n",
       "      <td>-0.000394</td>\n",
       "    </tr>\n",
       "    <tr>\n",
       "      <th>2020-04-24 00:00:00-04:00</th>\n",
       "      <td>-0.000341</td>\n",
       "      <td>0.014262</td>\n",
       "    </tr>\n",
       "  </tbody>\n",
       "</table>\n",
       "</div>"
      ],
      "text/plain": [
       "                                AGG       SPY\n",
       "                              close     close\n",
       "time                                         \n",
       "2020-04-20 00:00:00-04:00       NaN       NaN\n",
       "2020-04-21 00:00:00-04:00  0.000598 -0.030503\n",
       "2020-04-22 00:00:00-04:00 -0.000640  0.022526\n",
       "2020-04-23 00:00:00-04:00  0.002519 -0.000394\n",
       "2020-04-24 00:00:00-04:00 -0.000341  0.014262"
      ]
     },
     "execution_count": 6,
     "metadata": {},
     "output_type": "execute_result"
    }
   ],
   "source": [
    "# Daily roi for the stocks\n",
    "\n",
    "daily_returns = df.pct_change()\n",
    "\n",
    "\n",
    "avg_daily_returns_agg = daily_returns.mean()['AGG']\n",
    "avg_daily_returns_spy = daily_returns.mean()['SPY']\n",
    "\n",
    "daily_returns.head()"
   ]
  },
  {
   "cell_type": "code",
   "execution_count": 7,
   "metadata": {},
   "outputs": [
    {
     "name": "stdout",
     "output_type": "stream",
     "text": [
      "Volatlity for AGG is 0.0018158808464498123.\n",
      "Volatlity for SPY is 0.013589374374500227.\n"
     ]
    }
   ],
   "source": [
    "# Volatility\n",
    "\n",
    "std_dev_daily_returns_agg = daily_returns.std()['AGG']['close']\n",
    "std_dev_daily_returns_spy = daily_returns.std()['SPY']['close']\n",
    "\n",
    "print(f\"Volatlity for AGG is {std_dev_daily_returns_agg}.\")\n",
    "print(f\"Volatlity for SPY is {std_dev_daily_returns_spy}.\")"
   ]
  },
  {
   "cell_type": "code",
   "execution_count": 8,
   "metadata": {},
   "outputs": [
    {
     "name": "stdout",
     "output_type": "stream",
     "text": [
      "Last day's closing price for AGG is 118.19.\n",
      "Last day's closing price for SPY is 339.76.\n"
     ]
    }
   ],
   "source": [
    "# Last day's closing price\n",
    "\n",
    "agg_last_price = df['AGG']['close'][-1]\n",
    "spy_last_price = df['SPY']['close'][-1]\n",
    "\n",
    "print(f\"Last day's closing price for AGG is {agg_last_price}.\")\n",
    "print(f\"Last day's closing price for SPY is {spy_last_price}.\")"
   ]
  },
  {
   "cell_type": "code",
   "execution_count": 9,
   "metadata": {},
   "outputs": [],
   "source": [
    "# Setup the Monte Carlo Parameters\n",
    "num_simulations = 500\n",
    "num_records = 252 * 30\n",
    "simulated_price_df = pd.DataFrame()\n",
    "portfolio_cumulative_returns = pd.DataFrame()"
   ]
  },
  {
   "cell_type": "code",
   "execution_count": 10,
   "metadata": {},
   "outputs": [
    {
     "data": {
      "text/html": [
       "<div>\n",
       "<style scoped>\n",
       "    .dataframe tbody tr th:only-of-type {\n",
       "        vertical-align: middle;\n",
       "    }\n",
       "\n",
       "    .dataframe tbody tr th {\n",
       "        vertical-align: top;\n",
       "    }\n",
       "\n",
       "    .dataframe thead th {\n",
       "        text-align: right;\n",
       "    }\n",
       "</style>\n",
       "<table border=\"1\" class=\"dataframe\">\n",
       "  <thead>\n",
       "    <tr style=\"text-align: right;\">\n",
       "      <th></th>\n",
       "      <th>0</th>\n",
       "      <th>1</th>\n",
       "      <th>2</th>\n",
       "      <th>3</th>\n",
       "      <th>4</th>\n",
       "      <th>5</th>\n",
       "      <th>6</th>\n",
       "      <th>7</th>\n",
       "      <th>8</th>\n",
       "      <th>9</th>\n",
       "      <th>...</th>\n",
       "      <th>490</th>\n",
       "      <th>491</th>\n",
       "      <th>492</th>\n",
       "      <th>493</th>\n",
       "      <th>494</th>\n",
       "      <th>495</th>\n",
       "      <th>496</th>\n",
       "      <th>497</th>\n",
       "      <th>498</th>\n",
       "      <th>499</th>\n",
       "    </tr>\n",
       "  </thead>\n",
       "  <tbody>\n",
       "    <tr>\n",
       "      <th>0</th>\n",
       "      <td>1.000000</td>\n",
       "      <td>1.000000</td>\n",
       "      <td>1.000000</td>\n",
       "      <td>1.000000</td>\n",
       "      <td>1.000000</td>\n",
       "      <td>1.000000</td>\n",
       "      <td>1.000000</td>\n",
       "      <td>1.000000</td>\n",
       "      <td>1.000000</td>\n",
       "      <td>1.000000</td>\n",
       "      <td>...</td>\n",
       "      <td>1.000000</td>\n",
       "      <td>1.000000</td>\n",
       "      <td>1.000000</td>\n",
       "      <td>1.000000</td>\n",
       "      <td>1.000000</td>\n",
       "      <td>1.000000</td>\n",
       "      <td>1.000000</td>\n",
       "      <td>1.000000</td>\n",
       "      <td>1.000000</td>\n",
       "      <td>1.000000</td>\n",
       "    </tr>\n",
       "    <tr>\n",
       "      <th>1</th>\n",
       "      <td>1.000466</td>\n",
       "      <td>1.001680</td>\n",
       "      <td>0.999012</td>\n",
       "      <td>1.009647</td>\n",
       "      <td>1.020023</td>\n",
       "      <td>0.989185</td>\n",
       "      <td>0.993735</td>\n",
       "      <td>1.024093</td>\n",
       "      <td>1.001314</td>\n",
       "      <td>0.992030</td>\n",
       "      <td>...</td>\n",
       "      <td>1.003380</td>\n",
       "      <td>0.987860</td>\n",
       "      <td>1.002106</td>\n",
       "      <td>1.004784</td>\n",
       "      <td>0.994198</td>\n",
       "      <td>1.005161</td>\n",
       "      <td>1.003555</td>\n",
       "      <td>1.013039</td>\n",
       "      <td>0.996353</td>\n",
       "      <td>0.991238</td>\n",
       "    </tr>\n",
       "    <tr>\n",
       "      <th>2</th>\n",
       "      <td>1.014593</td>\n",
       "      <td>1.008491</td>\n",
       "      <td>1.007638</td>\n",
       "      <td>0.994467</td>\n",
       "      <td>1.015602</td>\n",
       "      <td>0.990289</td>\n",
       "      <td>0.989312</td>\n",
       "      <td>1.015025</td>\n",
       "      <td>1.000368</td>\n",
       "      <td>0.986657</td>\n",
       "      <td>...</td>\n",
       "      <td>1.009643</td>\n",
       "      <td>0.989956</td>\n",
       "      <td>1.004363</td>\n",
       "      <td>1.010800</td>\n",
       "      <td>0.995801</td>\n",
       "      <td>0.985574</td>\n",
       "      <td>1.005690</td>\n",
       "      <td>1.010558</td>\n",
       "      <td>0.992841</td>\n",
       "      <td>0.997939</td>\n",
       "    </tr>\n",
       "    <tr>\n",
       "      <th>3</th>\n",
       "      <td>1.013734</td>\n",
       "      <td>1.007712</td>\n",
       "      <td>1.007457</td>\n",
       "      <td>0.998119</td>\n",
       "      <td>1.012537</td>\n",
       "      <td>0.978301</td>\n",
       "      <td>0.995828</td>\n",
       "      <td>1.005667</td>\n",
       "      <td>1.000473</td>\n",
       "      <td>0.999920</td>\n",
       "      <td>...</td>\n",
       "      <td>1.011496</td>\n",
       "      <td>0.978917</td>\n",
       "      <td>1.005110</td>\n",
       "      <td>1.018406</td>\n",
       "      <td>0.989530</td>\n",
       "      <td>0.990532</td>\n",
       "      <td>1.014917</td>\n",
       "      <td>0.998601</td>\n",
       "      <td>0.996810</td>\n",
       "      <td>1.006050</td>\n",
       "    </tr>\n",
       "    <tr>\n",
       "      <th>4</th>\n",
       "      <td>1.022489</td>\n",
       "      <td>1.011474</td>\n",
       "      <td>1.016460</td>\n",
       "      <td>1.005038</td>\n",
       "      <td>1.022854</td>\n",
       "      <td>0.984909</td>\n",
       "      <td>1.004914</td>\n",
       "      <td>0.995765</td>\n",
       "      <td>1.002505</td>\n",
       "      <td>1.009944</td>\n",
       "      <td>...</td>\n",
       "      <td>1.006690</td>\n",
       "      <td>0.985687</td>\n",
       "      <td>1.006467</td>\n",
       "      <td>1.006711</td>\n",
       "      <td>0.991351</td>\n",
       "      <td>0.989880</td>\n",
       "      <td>1.011347</td>\n",
       "      <td>1.004032</td>\n",
       "      <td>0.993181</td>\n",
       "      <td>1.006915</td>\n",
       "    </tr>\n",
       "  </tbody>\n",
       "</table>\n",
       "<p>5 rows × 500 columns</p>\n",
       "</div>"
      ],
      "text/plain": [
       "        0         1         2         3         4         5         6    \\\n",
       "0  1.000000  1.000000  1.000000  1.000000  1.000000  1.000000  1.000000   \n",
       "1  1.000466  1.001680  0.999012  1.009647  1.020023  0.989185  0.993735   \n",
       "2  1.014593  1.008491  1.007638  0.994467  1.015602  0.990289  0.989312   \n",
       "3  1.013734  1.007712  1.007457  0.998119  1.012537  0.978301  0.995828   \n",
       "4  1.022489  1.011474  1.016460  1.005038  1.022854  0.984909  1.004914   \n",
       "\n",
       "        7         8         9    ...       490       491       492       493  \\\n",
       "0  1.000000  1.000000  1.000000  ...  1.000000  1.000000  1.000000  1.000000   \n",
       "1  1.024093  1.001314  0.992030  ...  1.003380  0.987860  1.002106  1.004784   \n",
       "2  1.015025  1.000368  0.986657  ...  1.009643  0.989956  1.004363  1.010800   \n",
       "3  1.005667  1.000473  0.999920  ...  1.011496  0.978917  1.005110  1.018406   \n",
       "4  0.995765  1.002505  1.009944  ...  1.006690  0.985687  1.006467  1.006711   \n",
       "\n",
       "        494       495       496       497       498       499  \n",
       "0  1.000000  1.000000  1.000000  1.000000  1.000000  1.000000  \n",
       "1  0.994198  1.005161  1.003555  1.013039  0.996353  0.991238  \n",
       "2  0.995801  0.985574  1.005690  1.010558  0.992841  0.997939  \n",
       "3  0.989530  0.990532  1.014917  0.998601  0.996810  1.006050  \n",
       "4  0.991351  0.989880  1.011347  1.004032  0.993181  1.006915  \n",
       "\n",
       "[5 rows x 500 columns]"
      ]
     },
     "execution_count": 10,
     "metadata": {},
     "output_type": "execute_result"
    }
   ],
   "source": [
    "# Run the Monte Carlo Simulation\n",
    "for n in range(num_simulations):\n",
    "\n",
    "    \n",
    "    simulated_agg_prices = [agg_last_price]\n",
    "    simulated_spy_prices = [spy_last_price]\n",
    "    \n",
    "    \n",
    "    for i in range(num_records):\n",
    "        \n",
    "        # Calculate the simulated price using the last price within the list\n",
    "        simulated_agg_price = simulated_agg_prices[-1] * (1 + np.random.normal(avg_daily_returns_agg, std_dev_daily_returns_agg))\n",
    "        simulated_spy_price = simulated_spy_prices[-1] * (1 + np.random.normal(avg_daily_returns_spy, std_dev_daily_returns_spy))\n",
    "        \n",
    "        # Append the simulated price to the list\n",
    "        simulated_agg_prices.append(simulated_agg_price)\n",
    "        simulated_spy_prices.append(simulated_spy_price)\n",
    "    \n",
    "    # Append a simulated prices of each simulation to DataFrame\n",
    "    \n",
    "    simulated_price_df[\"AGG prices\"] = pd.Series(simulated_agg_prices)\n",
    "    simulated_price_df[\"SPY prices\"] = pd.Series(simulated_spy_prices)\n",
    "    \n",
    "    # Calculate the daily returns of simulated prices\n",
    "    simulated_daily_returns = simulated_price_df.pct_change()\n",
    "    \n",
    "    #removed brackets from numbers in dataframe\n",
    "    simulated_daily_returns = simulated_daily_returns.astype(float)\n",
    "    \n",
    "    # Set the portfolio weights \n",
    "    weights = [0.40, 0.60]\n",
    "\n",
    "    # Use the `dot` function with the weights to multiply weights with each column's simulated daily returns\n",
    "    portfolio_daily_returns = simulated_daily_returns.dot(weights)\n",
    "    \n",
    "    # Calculate the normalized, cumulative return series\n",
    "    portfolio_cumulative_returns[n] = (1 + portfolio_daily_returns.fillna(0)).cumprod()\n",
    "\n",
    "# Print records from the DataFrame\n",
    "portfolio_cumulative_returns.head()"
   ]
  },
  {
   "cell_type": "code",
   "execution_count": 11,
   "metadata": {},
   "outputs": [
    {
     "data": {
      "text/plain": [
       "<matplotlib.axes._subplots.AxesSubplot at 0x1ea102684c8>"
      ]
     },
     "execution_count": 11,
     "metadata": {},
     "output_type": "execute_result"
    },
    {
     "data": {
      "image/png": "[encoded data removed]",
      "text/plain": [
       "<Figure size 432x288 with 1 Axes>"
      ]
     },
     "metadata": {
      "needs_background": "light"
     },
     "output_type": "display_data"
    }
   ],
   "source": [
    "# Visualize the Simulation\n",
    "\n",
    "plot_title = f\"{n+1} Simulations of Cumulative Portfolio Return Trajectories Over the Next 30 years\"\n",
    "portfolio_cumulative_returns.plot(legend=None, title=plot_title)"
   ]
  },
  {
   "cell_type": "code",
   "execution_count": 12,
   "metadata": {},
   "outputs": [
    {
     "data": {
      "text/plain": [
       "0    8214.450379\n",
       "1    6944.569005\n",
       "2    6988.607642\n",
       "3    4437.615669\n",
       "4    6900.652348\n",
       "Name: 7560, dtype: float64"
      ]
     },
     "execution_count": 12,
     "metadata": {},
     "output_type": "execute_result"
    }
   ],
   "source": [
    "# Last row for the cumulative returns (cumulative returns at 30 years)\n",
    "\n",
    "ending_cumulative_returns = portfolio_cumulative_returns.iloc[-1, :]\n",
    "ending_cumulative_returns.head()"
   ]
  },
  {
   "cell_type": "code",
   "execution_count": 13,
   "metadata": {},
   "outputs": [
    {
     "data": {
      "text/plain": [
       "0    8168.003622\n",
       "1    6926.088936\n",
       "2    6612.342470\n",
       "3    4386.618646\n",
       "4    6877.423658\n",
       "Name: 7550, dtype: float64"
      ]
     },
     "execution_count": 13,
     "metadata": {},
     "output_type": "execute_result"
    }
   ],
   "source": [
    "# Last row for the cumulative returns (cumulative returns at 20 years)\n",
    "\n",
    "ending_cumulative_returns_20 = portfolio_cumulative_returns.iloc[-11, :]\n",
    "ending_cumulative_returns_20.head()"
   ]
  },
  {
   "cell_type": "code",
   "execution_count": 14,
   "metadata": {},
   "outputs": [
    {
     "data": {
      "text/plain": [
       "0.05     2854.792870\n",
       "0.95    27309.993217\n",
       "Name: 7560, dtype: float64"
      ]
     },
     "execution_count": 14,
     "metadata": {},
     "output_type": "execute_result"
    }
   ],
   "source": [
    "# Display the 90% confidence interval for the ending returns\n",
    "\n",
    "confidence_interval_90 = ending_cumulative_returns.quantile(q=[0.05, 0.95])\n",
    "confidence_interval_90"
   ]
  },
  {
   "cell_type": "code",
   "execution_count": 15,
   "metadata": {},
   "outputs": [
    {
     "data": {
      "text/plain": [
       "<matplotlib.lines.Line2D at 0x1ea13012048>"
      ]
     },
     "execution_count": 15,
     "metadata": {},
     "output_type": "execute_result"
    },
    {
     "data": {
      "image/png": "[encoded data removed]",
      "text/plain": [
       "<Figure size 1080x360 with 1 Axes>"
      ]
     },
     "metadata": {
      "needs_background": "light"
     },
     "output_type": "display_data"
    }
   ],
   "source": [
    "# Visualize the distribution of the ending returns\n",
    "\n",
    "plt.figure();\n",
    "ending_cumulative_returns.plot(kind='hist', density=True, bins=20, figsize=(15,5))\n",
    "plt.axvline(confidence_interval_90.iloc[0], color='r')\n",
    "plt.axvline(confidence_interval_90.iloc[1], color='r')"
   ]
  },
  {
   "cell_type": "markdown",
   "metadata": {},
   "source": [
    "# Retirement Analysis"
   ]
  },
  {
   "cell_type": "markdown",
   "metadata": {},
   "source": [
    "### What are the expected cumulative returns at 30 years for the 10th, 50th, and 90th percentiles?"
   ]
  },
  {
   "cell_type": "code",
   "execution_count": 16,
   "metadata": {},
   "outputs": [
    {
     "name": "stdout",
     "output_type": "stream",
     "text": [
      "Expected cumulative returns at the 10th percentile is 366959.61869509856%\n",
      "Expected cumulative returns at the 50th percentile is 876200.8797777216%\n",
      "Expected cumulative returns at the 90th percentile is 2027061.1592095515%\n"
     ]
    }
   ],
   "source": [
    "expected_cum_returns = ending_cumulative_returns.quantile(q=[0.1, 0.5, 0.9])\n",
    "\n",
    "\n",
    "print(f\"Expected cumulative returns at the 10th percentile is {expected_cum_returns[.1] * 100}%\")\n",
    "print(f\"Expected cumulative returns at the 50th percentile is {expected_cum_returns[.5] * 100}%\")\n",
    "print(f\"Expected cumulative returns at the 90th percentile is {expected_cum_returns[.9] * 100}%\")"
   ]
  },
  {
   "cell_type": "markdown",
   "metadata": {},
   "source": [
    "### Given an initial investment of $20,000, what is the expected portfolio return in dollars at the 10th, 50th, and 90th percentiles?"
   ]
  },
  {
   "cell_type": "code",
   "execution_count": 17,
   "metadata": {},
   "outputs": [
    {
     "name": "stdout",
     "output_type": "stream",
     "text": [
      "Expected portfolio return over 30 years at the 10th percentile with an initial investement of $20000 is $7339192373.901971\n",
      "\n",
      "Expected portfolio return over 30 years at the 50th percentile with an initial investement of $20000 is $17524017595.554432\n",
      "\n",
      "Expected portfolio return over 30 years at the 90th percentile with an initial investement of $20000 is $40541223184.19103\n"
     ]
    }
   ],
   "source": [
    "initial_investment = 20000\n",
    "                                                    \n",
    "# Print the results\n",
    "print(f\"Expected portfolio return over 30 years at the 10th percentile with an initial investement of ${initial_investment} is ${initial_investment * expected_cum_returns[.1] * 100}\")\n",
    "print()\n",
    "print(f\"Expected portfolio return over 30 years at the 50th percentile with an initial investement of ${initial_investment} is ${initial_investment * expected_cum_returns[.5] * 100}\")\n",
    "print()\n",
    "print(f\"Expected portfolio return over 30 years at the 90th percentile with an initial investement of ${initial_investment} is ${initial_investment * expected_cum_returns[.9] * 100}\")"
   ]
  },
  {
   "cell_type": "markdown",
   "metadata": {},
   "source": [
    "### Given the current projected annual income from the Plaid analysis, will a 4% withdraw rate from the retirement portfolio meet or exceed that value at the 10th percentile?"
   ]
  },
  {
   "cell_type": "code",
   "execution_count": 18,
   "metadata": {},
   "outputs": [
    {
     "name": "stdout",
     "output_type": "stream",
     "text": [
      "A 4 % withdraw rate will provide an annual income of 293567694.9560788. This is less than the projected annual income of $6085.\n"
     ]
    }
   ],
   "source": [
    "projected_income = 6085\n",
    "print(f\"A 4 % withdraw rate will provide an annual income of {(initial_investment * expected_cum_returns[.1] * 100)*.04}. This is less than the projected annual income of ${projected_income}.\")"
   ]
  },
  {
   "cell_type": "markdown",
   "metadata": {},
   "source": [
    "### How would a 50% increase in the initial investment amount affect the 4% retirement withdrawal?"
   ]
  },
  {
   "cell_type": "code",
   "execution_count": 19,
   "metadata": {},
   "outputs": [
    {
     "name": "stdout",
     "output_type": "stream",
     "text": [
      "A 4 % withdraw rate will provide an annual income of 440351542.4341183. This is less than the projected annual income of $6085.\n"
     ]
    }
   ],
   "source": [
    "initial_investment_increased = initial_investment * 1.5\n",
    "\n",
    "print(f\"A 4 % withdraw rate will provide an annual income of {(initial_investment_increased * expected_cum_returns[.1] * 100)*.04}. This is less than the projected annual income of ${projected_income}.\")"
   ]
  },
  {
   "cell_type": "code",
   "execution_count": null,
   "metadata": {},
   "outputs": [],
   "source": []
  }
 ],
 "metadata": {
  "kernelspec": {
   "display_name": "Python 3",
   "language": "python",
   "name": "python3"
  },
  "language_info": {
   "codemirror_mode": {
    "name": "ipython",
    "version": 3
   },
   "file_extension": ".py",
   "mimetype": "text/x-python",
   "name": "python",
   "nbconvert_exporter": "python",
   "pygments_lexer": "ipython3",
   "version": "3.7.7"
  }
 },
 "nbformat": 4,
 "nbformat_minor": 4
}
