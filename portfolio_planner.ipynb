{
 "cells": [
  {
   "cell_type": "code",
   "execution_count": 1,
   "metadata": {},
   "outputs": [],
   "source": [
    "import numpy as np\n",
    "import pandas as pd\n",
    "from datetime import datetime, timedelta\n",
    "import matplotlib.pyplot as plt\n",
    "import os\n",
    "%matplotlib inline"
   ]
  },
  {
   "cell_type": "code",
   "execution_count": 2,
   "metadata": {},
   "outputs": [],
   "source": [
    "np.random.seed(42)"
   ]
  },
  {
   "cell_type": "markdown",
   "metadata": {},
   "source": [
    "# Portfolio Planner\n",
    "\n",
    "In this activity, you will use the iexfinance api to grab historical data for a 60/40 portfolio using `SPY` to represent the stock portion and `AGG` to represent the bonds."
   ]
  },
  {
   "cell_type": "code",
   "execution_count": 3,
   "metadata": {},
   "outputs": [],
   "source": [
    "import alpaca_trade_api as tradeapi"
   ]
  },
  {
   "cell_type": "code",
   "execution_count": 4,
   "metadata": {},
   "outputs": [],
   "source": [
    "from dotenv import load_dotenv\n",
    "load_dotenv()\n",
    "\n",
    "# Set Alpaca API key and secret\n",
    "alpaca_api_key = os.getenv(\"ALPACA_API_KEY\")\n",
    "alpaca_secret_key = os.getenv(\"ALPACA_SECRET_KEY\")\n",
    "\n",
    "api = tradeapi.REST(alpaca_api_key, alpaca_secret_key, api_version='v2')"
   ]
  },
  {
   "cell_type": "markdown",
   "metadata": {},
   "source": [
    "# Data Collection\n",
    "\n",
    "In this step, you will need to use the IEX api to fetch closing prices for the `SPY` and `AGG` tickers. Save the results as a pandas DataFrame"
   ]
  },
  {
   "cell_type": "code",
   "execution_count": 5,
   "metadata": {},
   "outputs": [
    {
     "data": {
      "text/html": [
       "<div>\n",
       "<style scoped>\n",
       "    .dataframe tbody tr th:only-of-type {\n",
       "        vertical-align: middle;\n",
       "    }\n",
       "\n",
       "    .dataframe tbody tr th {\n",
       "        vertical-align: top;\n",
       "    }\n",
       "\n",
       "    .dataframe thead tr th {\n",
       "        text-align: left;\n",
       "    }\n",
       "\n",
       "    .dataframe thead tr:last-of-type th {\n",
       "        text-align: right;\n",
       "    }\n",
       "</style>\n",
       "<table border=\"1\" class=\"dataframe\">\n",
       "  <thead>\n",
       "    <tr>\n",
       "      <th></th>\n",
       "      <th>AGG</th>\n",
       "      <th>SPY</th>\n",
       "    </tr>\n",
       "    <tr>\n",
       "      <th></th>\n",
       "      <th>close</th>\n",
       "      <th>close</th>\n",
       "    </tr>\n",
       "    <tr>\n",
       "      <th>time</th>\n",
       "      <th></th>\n",
       "      <th></th>\n",
       "    </tr>\n",
       "  </thead>\n",
       "  <tbody>\n",
       "    <tr>\n",
       "      <th>2019-11-25 00:00:00-05:00</th>\n",
       "      <td>112.980</td>\n",
       "      <td>313.35</td>\n",
       "    </tr>\n",
       "    <tr>\n",
       "      <th>2019-11-26 00:00:00-05:00</th>\n",
       "      <td>113.120</td>\n",
       "      <td>314.02</td>\n",
       "    </tr>\n",
       "    <tr>\n",
       "      <th>2019-11-27 00:00:00-05:00</th>\n",
       "      <td>112.995</td>\n",
       "      <td>315.46</td>\n",
       "    </tr>\n",
       "    <tr>\n",
       "      <th>2019-11-29 00:00:00-05:00</th>\n",
       "      <td>112.925</td>\n",
       "      <td>314.27</td>\n",
       "    </tr>\n",
       "    <tr>\n",
       "      <th>2019-12-02 00:00:00-05:00</th>\n",
       "      <td>112.480</td>\n",
       "      <td>311.60</td>\n",
       "    </tr>\n",
       "  </tbody>\n",
       "</table>\n",
       "</div>"
      ],
      "text/plain": [
       "                               AGG     SPY\n",
       "                             close   close\n",
       "time                                      \n",
       "2019-11-25 00:00:00-05:00  112.980  313.35\n",
       "2019-11-26 00:00:00-05:00  113.120  314.02\n",
       "2019-11-27 00:00:00-05:00  112.995  315.46\n",
       "2019-11-29 00:00:00-05:00  112.925  314.27\n",
       "2019-12-02 00:00:00-05:00  112.480  311.60"
      ]
     },
     "execution_count": 5,
     "metadata": {},
     "output_type": "execute_result"
    }
   ],
   "source": [
    "list_of_tickers = [\"AGG\", \"SPY\"]\n",
    "# YOUR CODE HERE\n",
    "timeframe = '1D'\n",
    "\n",
    "\n",
    "end_date = datetime.now()\n",
    "start_date = end_date + timedelta(-365)\n",
    "\n",
    "\n",
    "df = api.get_barset(\n",
    "    list_of_tickers,\n",
    "    timeframe,\n",
    "    limit=None,\n",
    "    start=start_date,\n",
    "    end=end_date,\n",
    "    after=None,\n",
    "    until=None,\n",
    ").df\n",
    "\n",
    "df.drop(columns=['open', 'high', 'low', 'volume'], level=1, inplace=True)\n",
    "\n",
    "\n",
    "df.head()"
   ]
  },
  {
   "cell_type": "markdown",
   "metadata": {},
   "source": [
    "# Monte Carlo Simulation\n",
    "\n",
    "In this step, you will run Monte Carlo Simulations for your portfolio to model portfolio performance at different retirement ages. \n",
    "\n",
    "Complete the following steps:\n",
    "1. Calculate the daily returns for the SPY and AGG closing prices.\n",
    "2. Calculate volatility for both the SPY and AGG closing prices.\n",
    "3. Find the last day's closing price for both stocks and save those as variables.\n",
    "4. Run a Monte Carlo Simulation of at least 500 iterations and generate at least 30 years of closing prices\n",
    "\n",
    "### HINTS:\n",
    "There are 252 trading days per year, so the number of records to generate for each Monte Carlo run will be 252 days * 30 years"
   ]
  },
  {
   "cell_type": "code",
   "execution_count": 6,
   "metadata": {},
   "outputs": [
    {
     "data": {
      "text/html": [
       "<div>\n",
       "<style scoped>\n",
       "    .dataframe tbody tr th:only-of-type {\n",
       "        vertical-align: middle;\n",
       "    }\n",
       "\n",
       "    .dataframe tbody tr th {\n",
       "        vertical-align: top;\n",
       "    }\n",
       "\n",
       "    .dataframe thead tr th {\n",
       "        text-align: left;\n",
       "    }\n",
       "\n",
       "    .dataframe thead tr:last-of-type th {\n",
       "        text-align: right;\n",
       "    }\n",
       "</style>\n",
       "<table border=\"1\" class=\"dataframe\">\n",
       "  <thead>\n",
       "    <tr>\n",
       "      <th></th>\n",
       "      <th>AGG</th>\n",
       "      <th>SPY</th>\n",
       "    </tr>\n",
       "    <tr>\n",
       "      <th></th>\n",
       "      <th>close</th>\n",
       "      <th>close</th>\n",
       "    </tr>\n",
       "    <tr>\n",
       "      <th>time</th>\n",
       "      <th></th>\n",
       "      <th></th>\n",
       "    </tr>\n",
       "  </thead>\n",
       "  <tbody>\n",
       "    <tr>\n",
       "      <th>2019-11-25 00:00:00-05:00</th>\n",
       "      <td>NaN</td>\n",
       "      <td>NaN</td>\n",
       "    </tr>\n",
       "    <tr>\n",
       "      <th>2019-11-26 00:00:00-05:00</th>\n",
       "      <td>0.001239</td>\n",
       "      <td>0.002138</td>\n",
       "    </tr>\n",
       "    <tr>\n",
       "      <th>2019-11-27 00:00:00-05:00</th>\n",
       "      <td>-0.001105</td>\n",
       "      <td>0.004586</td>\n",
       "    </tr>\n",
       "    <tr>\n",
       "      <th>2019-11-29 00:00:00-05:00</th>\n",
       "      <td>-0.000619</td>\n",
       "      <td>-0.003772</td>\n",
       "    </tr>\n",
       "    <tr>\n",
       "      <th>2019-12-02 00:00:00-05:00</th>\n",
       "      <td>-0.003941</td>\n",
       "      <td>-0.008496</td>\n",
       "    </tr>\n",
       "  </tbody>\n",
       "</table>\n",
       "</div>"
      ],
      "text/plain": [
       "                                AGG       SPY\n",
       "                              close     close\n",
       "time                                         \n",
       "2019-11-25 00:00:00-05:00       NaN       NaN\n",
       "2019-11-26 00:00:00-05:00  0.001239  0.002138\n",
       "2019-11-27 00:00:00-05:00 -0.001105  0.004586\n",
       "2019-11-29 00:00:00-05:00 -0.000619 -0.003772\n",
       "2019-12-02 00:00:00-05:00 -0.003941 -0.008496"
      ]
     },
     "execution_count": 6,
     "metadata": {},
     "output_type": "execute_result"
    }
   ],
   "source": [
    "# Calculate the daily roi for the stocks\n",
    "# YOUR CODE HERE\n",
    "daily_returns = df.pct_change()\n",
    "\n",
    "\n",
    "avg_daily_returns_agg = daily_returns.mean()['AGG']\n",
    "avg_daily_returns_spy = daily_returns.mean()['SPY']\n",
    "\n",
    "daily_returns.head()"
   ]
  },
  {
   "cell_type": "code",
   "execution_count": 7,
   "metadata": {},
   "outputs": [
    {
     "name": "stdout",
     "output_type": "stream",
     "text": [
      "Volatlity for AGG is 0.00849621679692908.\n",
      "Volatlity for SPY is 0.03035576769149059.\n"
     ]
    }
   ],
   "source": [
    "# Calculate volatility\n",
    "# YOUR CODE HERE\n",
    "std_dev_daily_returns_agg = daily_returns.std()['AGG']['close']\n",
    "std_dev_daily_returns_spy = daily_returns.std()['SPY']['close']\n",
    "\n",
    "print(f\"Volatlity for AGG is {std_dev_daily_returns_agg}.\")\n",
    "print(f\"Volatlity for SPY is {std_dev_daily_returns_spy}.\")"
   ]
  },
  {
   "cell_type": "code",
   "execution_count": 8,
   "metadata": {},
   "outputs": [
    {
     "name": "stdout",
     "output_type": "stream",
     "text": [
      "Last day's closing price for AGG is 117.1.\n",
      "Last day's closing price for SPY is 281.61.\n"
     ]
    }
   ],
   "source": [
    "# Save the last day's closing price\n",
    "# YOUR CODE HERE\n",
    "agg_last_price = df['AGG']['close'][-1]\n",
    "spy_last_price = df['SPY']['close'][-1]\n",
    "\n",
    "print(f\"Last day's closing price for AGG is {agg_last_price}.\")\n",
    "print(f\"Last day's closing price for SPY is {spy_last_price}.\")"
   ]
  },
  {
   "cell_type": "code",
   "execution_count": 9,
   "metadata": {},
   "outputs": [],
   "source": [
    "# Setup the Monte Carlo Parameters\n",
    "num_simulations = 500\n",
    "num_records = 252 * 30\n",
    "simulated_price_df = pd.DataFrame()\n",
    "portfolio_cumulative_returns = pd.DataFrame()"
   ]
  },
  {
   "cell_type": "code",
   "execution_count": 10,
   "metadata": {},
   "outputs": [
    {
     "data": {
      "text/html": [
       "<div>\n",
       "<style scoped>\n",
       "    .dataframe tbody tr th:only-of-type {\n",
       "        vertical-align: middle;\n",
       "    }\n",
       "\n",
       "    .dataframe tbody tr th {\n",
       "        vertical-align: top;\n",
       "    }\n",
       "\n",
       "    .dataframe thead th {\n",
       "        text-align: right;\n",
       "    }\n",
       "</style>\n",
       "<table border=\"1\" class=\"dataframe\">\n",
       "  <thead>\n",
       "    <tr style=\"text-align: right;\">\n",
       "      <th></th>\n",
       "      <th>0</th>\n",
       "      <th>1</th>\n",
       "      <th>2</th>\n",
       "      <th>3</th>\n",
       "      <th>4</th>\n",
       "      <th>5</th>\n",
       "      <th>6</th>\n",
       "      <th>7</th>\n",
       "      <th>8</th>\n",
       "      <th>9</th>\n",
       "      <th>...</th>\n",
       "      <th>490</th>\n",
       "      <th>491</th>\n",
       "      <th>492</th>\n",
       "      <th>493</th>\n",
       "      <th>494</th>\n",
       "      <th>495</th>\n",
       "      <th>496</th>\n",
       "      <th>497</th>\n",
       "      <th>498</th>\n",
       "      <th>499</th>\n",
       "    </tr>\n",
       "  </thead>\n",
       "  <tbody>\n",
       "    <tr>\n",
       "      <th>0</th>\n",
       "      <td>1.000000</td>\n",
       "      <td>1.000000</td>\n",
       "      <td>1.000000</td>\n",
       "      <td>1.000000</td>\n",
       "      <td>1.000000</td>\n",
       "      <td>1.000000</td>\n",
       "      <td>1.000000</td>\n",
       "      <td>1.000000</td>\n",
       "      <td>1.000000</td>\n",
       "      <td>1.000000</td>\n",
       "      <td>...</td>\n",
       "      <td>1.000000</td>\n",
       "      <td>1.000000</td>\n",
       "      <td>1.000000</td>\n",
       "      <td>1.000000</td>\n",
       "      <td>1.000000</td>\n",
       "      <td>1.000000</td>\n",
       "      <td>1.000000</td>\n",
       "      <td>1.000000</td>\n",
       "      <td>1.000000</td>\n",
       "      <td>1.000000</td>\n",
       "    </tr>\n",
       "    <tr>\n",
       "      <th>1</th>\n",
       "      <td>0.998958</td>\n",
       "      <td>0.998958</td>\n",
       "      <td>0.992177</td>\n",
       "      <td>1.017918</td>\n",
       "      <td>1.042930</td>\n",
       "      <td>0.975749</td>\n",
       "      <td>0.986679</td>\n",
       "      <td>1.048356</td>\n",
       "      <td>1.000448</td>\n",
       "      <td>0.979072</td>\n",
       "      <td>...</td>\n",
       "      <td>1.005101</td>\n",
       "      <td>0.968622</td>\n",
       "      <td>1.004243</td>\n",
       "      <td>1.007372</td>\n",
       "      <td>0.983271</td>\n",
       "      <td>1.009371</td>\n",
       "      <td>1.003243</td>\n",
       "      <td>1.023172</td>\n",
       "      <td>0.990042</td>\n",
       "      <td>0.976644</td>\n",
       "    </tr>\n",
       "    <tr>\n",
       "      <th>2</th>\n",
       "      <td>1.028656</td>\n",
       "      <td>1.012223</td>\n",
       "      <td>1.007612</td>\n",
       "      <td>0.980777</td>\n",
       "      <td>1.031042</td>\n",
       "      <td>0.971768</td>\n",
       "      <td>0.971912</td>\n",
       "      <td>1.020494</td>\n",
       "      <td>0.994950</td>\n",
       "      <td>0.967509</td>\n",
       "      <td>...</td>\n",
       "      <td>1.016532</td>\n",
       "      <td>0.972812</td>\n",
       "      <td>1.007247</td>\n",
       "      <td>1.018096</td>\n",
       "      <td>0.984213</td>\n",
       "      <td>0.961856</td>\n",
       "      <td>1.004610</td>\n",
       "      <td>1.014660</td>\n",
       "      <td>0.979267</td>\n",
       "      <td>0.989481</td>\n",
       "    </tr>\n",
       "    <tr>\n",
       "      <th>3</th>\n",
       "      <td>1.023233</td>\n",
       "      <td>1.007369</td>\n",
       "      <td>1.005431</td>\n",
       "      <td>0.983468</td>\n",
       "      <td>1.020748</td>\n",
       "      <td>0.944058</td>\n",
       "      <td>0.984356</td>\n",
       "      <td>0.994319</td>\n",
       "      <td>0.991997</td>\n",
       "      <td>0.996017</td>\n",
       "      <td>...</td>\n",
       "      <td>1.017471</td>\n",
       "      <td>0.946977</td>\n",
       "      <td>1.007519</td>\n",
       "      <td>1.032307</td>\n",
       "      <td>0.965086</td>\n",
       "      <td>0.969026</td>\n",
       "      <td>1.023132</td>\n",
       "      <td>0.987325</td>\n",
       "      <td>0.986055</td>\n",
       "      <td>1.003610</td>\n",
       "    </tr>\n",
       "    <tr>\n",
       "      <th>4</th>\n",
       "      <td>1.042811</td>\n",
       "      <td>1.013592</td>\n",
       "      <td>1.020650</td>\n",
       "      <td>0.997547</td>\n",
       "      <td>1.040970</td>\n",
       "      <td>0.953325</td>\n",
       "      <td>1.000542</td>\n",
       "      <td>0.968675</td>\n",
       "      <td>0.996294</td>\n",
       "      <td>1.011060</td>\n",
       "      <td>...</td>\n",
       "      <td>1.004421</td>\n",
       "      <td>0.957763</td>\n",
       "      <td>1.006828</td>\n",
       "      <td>1.005093</td>\n",
       "      <td>0.968250</td>\n",
       "      <td>0.963505</td>\n",
       "      <td>1.009865</td>\n",
       "      <td>0.996297</td>\n",
       "      <td>0.976795</td>\n",
       "      <td>1.003712</td>\n",
       "    </tr>\n",
       "  </tbody>\n",
       "</table>\n",
       "<p>5 rows × 500 columns</p>\n",
       "</div>"
      ],
      "text/plain": [
       "        0         1         2         3         4         5         6    \\\n",
       "0  1.000000  1.000000  1.000000  1.000000  1.000000  1.000000  1.000000   \n",
       "1  0.998958  0.998958  0.992177  1.017918  1.042930  0.975749  0.986679   \n",
       "2  1.028656  1.012223  1.007612  0.980777  1.031042  0.971768  0.971912   \n",
       "3  1.023233  1.007369  1.005431  0.983468  1.020748  0.944058  0.984356   \n",
       "4  1.042811  1.013592  1.020650  0.997547  1.040970  0.953325  1.000542   \n",
       "\n",
       "        7         8         9    ...       490       491       492       493  \\\n",
       "0  1.000000  1.000000  1.000000  ...  1.000000  1.000000  1.000000  1.000000   \n",
       "1  1.048356  1.000448  0.979072  ...  1.005101  0.968622  1.004243  1.007372   \n",
       "2  1.020494  0.994950  0.967509  ...  1.016532  0.972812  1.007247  1.018096   \n",
       "3  0.994319  0.991997  0.996017  ...  1.017471  0.946977  1.007519  1.032307   \n",
       "4  0.968675  0.996294  1.011060  ...  1.004421  0.957763  1.006828  1.005093   \n",
       "\n",
       "        494       495       496       497       498       499  \n",
       "0  1.000000  1.000000  1.000000  1.000000  1.000000  1.000000  \n",
       "1  0.983271  1.009371  1.003243  1.023172  0.990042  0.976644  \n",
       "2  0.984213  0.961856  1.004610  1.014660  0.979267  0.989481  \n",
       "3  0.965086  0.969026  1.023132  0.987325  0.986055  1.003610  \n",
       "4  0.968250  0.963505  1.009865  0.996297  0.976795  1.003712  \n",
       "\n",
       "[5 rows x 500 columns]"
      ]
     },
     "execution_count": 10,
     "metadata": {},
     "output_type": "execute_result"
    }
   ],
   "source": [
    "# Run the Monte Carlo Simulation\n",
    "for n in range(num_simulations):\n",
    "\n",
    "    \n",
    "    simulated_agg_prices = [agg_last_price]\n",
    "    simulated_spy_prices = [spy_last_price]\n",
    "    \n",
    "    # Simulate the returns for 252 * 3 days\n",
    "    for i in range(num_records):\n",
    "        \n",
    "        # Calculate the simulated price using the last price within the list\n",
    "        simulated_agg_price = simulated_agg_prices[-1] * (1 + np.random.normal(avg_daily_returns_agg, std_dev_daily_returns_agg))\n",
    "        simulated_spy_price = simulated_spy_prices[-1] * (1 + np.random.normal(avg_daily_returns_spy, std_dev_daily_returns_spy))\n",
    "        \n",
    "        # Append the simulated price to the list\n",
    "        simulated_agg_prices.append(simulated_agg_price)\n",
    "        simulated_spy_prices.append(simulated_spy_price)\n",
    "    \n",
    "    # Append a simulated prices of each simulation to DataFrame\n",
    "    \n",
    "    simulated_price_df[\"AGG prices\"] = pd.Series(simulated_agg_prices)\n",
    "    simulated_price_df[\"SPY prices\"] = pd.Series(simulated_spy_prices)\n",
    "    \n",
    "    # Calculate the daily returns of simulated prices\n",
    "    simulated_daily_returns = simulated_price_df.pct_change()\n",
    "    \n",
    "    #removed brackets from numbers in dataframe\n",
    "    simulated_daily_returns = simulated_daily_returns.astype(float)\n",
    "    \n",
    "    # Set the portfolio weights \n",
    "    weights = [0.40, 0.60]\n",
    "\n",
    "    # Use the `dot` function with the weights to multiply weights with each column's simulated daily returns\n",
    "    portfolio_daily_returns = simulated_daily_returns.dot(weights)\n",
    "    \n",
    "    # Calculate the normalized, cumulative return series\n",
    "    portfolio_cumulative_returns[n] = (1 + portfolio_daily_returns.fillna(0)).cumprod()\n",
    "\n",
    "# Print records from the DataFrame\n",
    "portfolio_cumulative_returns.head()"
   ]
  },
  {
   "cell_type": "code",
   "execution_count": null,
   "metadata": {},
   "outputs": [],
   "source": []
  },
  {
   "cell_type": "code",
   "execution_count": 22,
   "metadata": {},
   "outputs": [
    {
     "data": {
      "text/plain": [
       "<matplotlib.axes._subplots.AxesSubplot at 0x230c6ba7648>"
      ]
     },
     "execution_count": 22,
     "metadata": {},
     "output_type": "execute_result"
    },
    {
     "data": {
      "image/png": "[encoded data removed]",
      "text/plain": [
       "<Figure size 432x288 with 1 Axes>"
      ]
     },
     "metadata": {
      "needs_background": "light"
     },
     "output_type": "display_data"
    }
   ],
   "source": [
    "# Visualize the Simulation\n",
    "# YOUR CODE HERE\n",
    "plot_title = f\"{n+1} Simulations of Cumulative Portfolio Return Trajectories Over the Next 30 years\"\n",
    "portfolio_cumulative_returns.plot(legend=None, title=plot_title)"
   ]
  },
  {
   "cell_type": "code",
   "execution_count": 23,
   "metadata": {},
   "outputs": [
    {
     "data": {
      "text/plain": [
       "0    0.053252\n",
       "1    0.034669\n",
       "2    0.038815\n",
       "3    0.014352\n",
       "4    0.037921\n",
       "Name: 7560, dtype: float64"
      ]
     },
     "execution_count": 23,
     "metadata": {},
     "output_type": "execute_result"
    }
   ],
   "source": [
    "# Select the last row for the cumulative returns (cumulative returns at 30 years)\n",
    "# YOUR CODE HERE\n",
    "ending_cumulative_returns = portfolio_cumulative_returns.iloc[-1, :]\n",
    "ending_cumulative_returns.head()"
   ]
  },
  {
   "cell_type": "code",
   "execution_count": 24,
   "metadata": {},
   "outputs": [
    {
     "data": {
      "text/plain": [
       "0    0.053942\n",
       "1    0.035627\n",
       "2    0.034910\n",
       "3    0.014357\n",
       "4    0.039200\n",
       "Name: 7550, dtype: float64"
      ]
     },
     "execution_count": 24,
     "metadata": {},
     "output_type": "execute_result"
    }
   ],
   "source": [
    "# Select the last row for the cumulative returns (cumulative returns at 20 years)\n",
    "# YOUR CODE HERE\n",
    "ending_cumulative_returns_20 = portfolio_cumulative_returns.iloc[-11, :]\n",
    "ending_cumulative_returns_20.head()"
   ]
  },
  {
   "cell_type": "code",
   "execution_count": 25,
   "metadata": {},
   "outputs": [
    {
     "data": {
      "text/plain": [
       "0.05    0.004583\n",
       "0.95    0.725359\n",
       "Name: 7560, dtype: float64"
      ]
     },
     "execution_count": 25,
     "metadata": {},
     "output_type": "execute_result"
    }
   ],
   "source": [
    "# Display the 90% confidence interval for the ending returns\n",
    "# YOUR CODE HERE\n",
    "confidence_interval_90 = ending_cumulative_returns.quantile(q=[0.05, 0.95])\n",
    "confidence_interval_90"
   ]
  },
  {
   "cell_type": "code",
   "execution_count": 40,
   "metadata": {},
   "outputs": [
    {
     "data": {
      "text/plain": [
       "<matplotlib.lines.Line2D at 0x230e34d5648>"
      ]
     },
     "execution_count": 40,
     "metadata": {},
     "output_type": "execute_result"
    },
    {
     "data": {
      "image/png": "[encoded data removed]",
      "text/plain": [
       "<Figure size 1080x360 with 1 Axes>"
      ]
     },
     "metadata": {
      "needs_background": "light"
     },
     "output_type": "display_data"
    }
   ],
   "source": [
    "# Visualize the distribution of the ending returns\n",
    "# YOUR CODE HERE\n",
    "plt.figure();\n",
    "ending_cumulative_returns.plot(kind='hist', density=True, bins=50, figsize=(15,5))\n",
    "plt.axvline(confidence_interval_90.iloc[0], color='r')\n",
    "plt.axvline(confidence_interval_90.iloc[1], color='r')"
   ]
  },
  {
   "cell_type": "markdown",
   "metadata": {},
   "source": [
    "---"
   ]
  },
  {
   "cell_type": "markdown",
   "metadata": {},
   "source": [
    "# Retirement Analysis\n",
    "\n",
    "In this section, you will use the monte carlo model to answer the following retirement planning questions:\n",
    "\n",
    "1. What are the expected cumulative returns at 30 years for the 10th, 50th, and 90th percentiles?\n",
    "2. Given an initial investment of `$20,000`, what is the expected portfolio return in dollars at the 10th, 50th, and 90th percentiles?\n",
    "3. Given the current projected annual income from the Plaid analysis, will a 4% withdraw rate from the retirement portfolio meet or exceed that value at the 10th percentile?\n",
    "4. How would a 50% increase in the initial investment amount affect the 4% retirement withdrawal?"
   ]
  },
  {
   "cell_type": "markdown",
   "metadata": {},
   "source": [
    "### What are the expected cumulative returns at 30 years for the 10th, 50th, and 90th percentiles?"
   ]
  },
  {
   "cell_type": "code",
   "execution_count": 41,
   "metadata": {},
   "outputs": [
    {
     "name": "stdout",
     "output_type": "stream",
     "text": [
      "0.1    0.007916\n",
      "0.5    0.059226\n",
      "0.9    0.376328\n",
      "Name: 7560, dtype: float64\n"
     ]
    }
   ],
   "source": [
    "# YOUR CODE HERE\n",
    "confidence_interval_10 = ending_cumulative_returns.quantile(q=[0.45, 0.55])\n",
    "confidence_interval_10\n",
    "\n",
    "confidence_interval_50 = ending_cumulative_returns.quantile(q=[0.25, 0.75])\n",
    "confidence_interval_50\n",
    "\n",
    "confidence_interval_90 = ending_cumulative_returns.quantile(q=[0.05, 0.95])\n",
    "confidence_interval_90\n",
    "\n",
    "expected_cum_returns = ending_cumulative_returns.quantile(q=[0.1, 0.5, 0.9])\n",
    "\n",
    "print(expected_cum_returns)"
   ]
  },
  {
   "cell_type": "markdown",
   "metadata": {},
   "source": [
    "### Given an initial investment of `$20,000`, what is the expected portfolio return in dollars at the 10th, 50th, and 90th percentiles?"
   ]
  },
  {
   "cell_type": "code",
   "execution_count": 42,
   "metadata": {},
   "outputs": [
    {
     "name": "stdout",
     "output_type": "stream",
     "text": [
      "There is a 10% chance that an initial investment of $20,000 in the portfolio over the next 30 years will end within in the range of $936.1105656425342 and $1457.0067036791079\n",
      "\n",
      "There is a 50% chance that an initial investment of $20,000 in the portfolio over the next 30 years will end within in the range of $425.6360438806058 and $3413.86923998424\n",
      "\n",
      "There is a 90% chance that an initial investment of $20,000 in the portfolio over the next 30 years will end within in the range of $91.66458423068642 and $14507.182575215185\n"
     ]
    }
   ],
   "source": [
    "# YOUR CODE HERE\n",
    "initial_investment = 20000\n",
    "\n",
    "investment_pnl_lower_bound_10 = initial_investment * confidence_interval_10.iloc[0]\n",
    "investment_pnl_upper_bound_10 = initial_investment * confidence_interval_10.iloc[1]\n",
    "\n",
    "investment_pnl_lower_bound_50 = initial_investment * confidence_interval_50.iloc[0]\n",
    "investment_pnl_upper_bound_50 = initial_investment * confidence_interval_50.iloc[1]\n",
    "\n",
    "investment_pnl_lower_bound_90= initial_investment * confidence_interval_90.iloc[0]\n",
    "investment_pnl_upper_bound_90 = initial_investment * confidence_interval_90.iloc[1]\n",
    "                                                    \n",
    "# Print the results\n",
    "print(f\"There is a 10% chance that an initial investment of $20,000 in the portfolio\"\n",
    "      f\" over the next 30 years will end within in the range of\"\n",
    "      f\" ${investment_pnl_lower_bound_10} and ${investment_pnl_upper_bound_10}\")\n",
    "print()\n",
    "print(f\"There is a 50% chance that an initial investment of $20,000 in the portfolio\"\n",
    "      f\" over the next 30 years will end within in the range of\"\n",
    "      f\" ${investment_pnl_lower_bound_50} and ${investment_pnl_upper_bound_50}\")\n",
    "print()\n",
    "print(f\"There is a 90% chance that an initial investment of $20,000 in the portfolio\"\n",
    "      f\" over the next 30 years will end within in the range of\"\n",
    "      f\" ${investment_pnl_lower_bound_90} and ${investment_pnl_upper_bound_90}\")\n",
    "                                                    "
   ]
  },
  {
   "cell_type": "markdown",
   "metadata": {},
   "source": [
    "### Given the current projected annual income from the Plaid analysis, will a 4% withdraw rate from the retirement portfolio meet or exceed that value at the 10th percentile?\n",
    "\n",
    "Note: This is effectively saying that 90% of the expected returns will be greater than the return at the 10th percentile, so this can help measure the uncertainty about having enough funds at retirement"
   ]
  },
  {
   "cell_type": "code",
   "execution_count": 18,
   "metadata": {},
   "outputs": [],
   "source": [
    "# YOUR CODE HERE"
   ]
  },
  {
   "cell_type": "markdown",
   "metadata": {},
   "source": [
    "### How would a 50% increase in the initial investment amount affect the 4% retirement withdrawal?"
   ]
  },
  {
   "cell_type": "code",
   "execution_count": 19,
   "metadata": {},
   "outputs": [],
   "source": [
    "# YOUR CODE HERE"
   ]
  },
  {
   "cell_type": "markdown",
   "metadata": {},
   "source": [
    "### Optional Challenge\n",
    "\n",
    "In this section, you will calculate and plot the cumulative returns for the median and 90% confidence intervals. This plot shows the expected cumulative returns for any given day between the first day and the last day of investment. "
   ]
  },
  {
   "cell_type": "code",
   "execution_count": 20,
   "metadata": {},
   "outputs": [],
   "source": [
    "# YOUR CODE HERE"
   ]
  }
 ],
 "metadata": {
  "kernelspec": {
   "display_name": "Python 3",
   "language": "python",
   "name": "python3"
  },
  "language_info": {
   "codemirror_mode": {
    "name": "ipython",
    "version": 3
   },
   "file_extension": ".py",
   "mimetype": "text/x-python",
   "name": "python",
   "nbconvert_exporter": "python",
   "pygments_lexer": "ipython3",
   "version": "3.7.7"
  }
 },
 "nbformat": 4,
 "nbformat_minor": 4
}
